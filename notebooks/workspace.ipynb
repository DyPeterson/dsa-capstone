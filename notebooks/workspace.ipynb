{
 "cells": [
  {
   "cell_type": "code",
   "execution_count": 13,
   "metadata": {},
   "outputs": [],
   "source": [
    "import pandas as pd\n",
    "import os, glob"
   ]
  },
  {
   "cell_type": "code",
   "execution_count": null,
   "metadata": {},
   "outputs": [],
   "source": [
    "# filepath = './data/netflix_titles.csv'\n",
    "\n",
    "# df = pd.read_csv(filepath, header=0, sep=',').replace('\\n','', regex=True)\n",
    "\n",
    "def csv_to_dataframe(filepath:str, index:str) -> None:\n",
    "    \"\"\"\n",
    "    ### Load a csv file into a pandas dataframe.\n",
    "\n",
    "    Returns inserted csv into 'df' variable.\n",
    "\n",
    "     - filepath: string of filepath to csv file.\n",
    "\n",
    "     - index: string of column to index dataframe by.\n",
    "    \"\"\"\n",
    "    df = pd.read_csv(filepath, header=0, index_col=[index])\n",
    "    return df"
   ]
  },
  {
   "cell_type": "code",
   "execution_count": 38,
   "metadata": {},
   "outputs": [],
   "source": [
    "# Dataframe Details\n",
    "df = pd.read_csv(\"https://media.geeksforgeeks.org/wp-content/uploads/nba.csv\")\n",
    "def details(df):\n",
    "    \"\"\"\n",
    "    Prints Stats of a dataframe, Returning columns, the shape and datatypes of the columns\n",
    "    \"\"\"\n",
    "    print(f\"\"\"\n",
    "    Columns: {list(df.columns)}\n",
    "    Shape: {df.shape[0]} Rows, {df.shape[1]} Columns\n",
    "    Data Types: {list(df.dtypes)}\n",
    "    \"\"\")\n",
    "\n"
   ]
  },
  {
   "cell_type": "code",
   "execution_count": null,
   "metadata": {},
   "outputs": [],
   "source": [
    "from pandas import DataFrame\n",
    "\n",
    "\n",
    "def remove_new_line_char(df:DataFrame) -> DataFrame:\n",
    "    \"\"\"\n",
    "    Removes new lines from dataframe.\n",
    "    \"\"\"\n",
    "    return df.replace('\\n','', regex=True)"
   ]
  },
  {
   "cell_type": "code",
   "execution_count": null,
   "metadata": {},
   "outputs": [],
   "source": []
  }
 ],
 "metadata": {
  "kernelspec": {
   "display_name": "Python 3.7.13 ('venv': venv)",
   "language": "python",
   "name": "python3"
  },
  "language_info": {
   "codemirror_mode": {
    "name": "ipython",
    "version": 3
   },
   "file_extension": ".py",
   "mimetype": "text/x-python",
   "name": "python",
   "nbconvert_exporter": "python",
   "pygments_lexer": "ipython3",
   "version": "3.7.13"
  },
  "orig_nbformat": 4,
  "vscode": {
   "interpreter": {
    "hash": "eae3ff3229a1b98607459d5c4f9a548548e06220ac25a9cd12473f0b3fa680dd"
   }
  }
 },
 "nbformat": 4,
 "nbformat_minor": 2
}
