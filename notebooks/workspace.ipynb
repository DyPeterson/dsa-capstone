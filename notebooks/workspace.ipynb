{
 "cells": [
  {
   "cell_type": "code",
   "execution_count": 40,
   "metadata": {},
   "outputs": [],
   "source": [
    "import pandas as pd\n",
    "from pandas import DataFrame\n",
    "import os"
   ]
  },
  {
   "cell_type": "code",
   "execution_count": null,
   "metadata": {},
   "outputs": [],
   "source": [
    "# filepath = './data/netflix_titles.csv'\n",
    "\n",
    "# df = pd.read_csv(filepath, header=0, sep=',').replace('\\n','', regex=True)\n",
    "\n",
    "def csv_to_dataframe(filepath:str, index:str) -> None:\n",
    "    \"\"\"\n",
    "    ### Load a csv file into a pandas dataframe.\n",
    "\n",
    "    Returns inserted csv into 'df' variable.\n",
    "\n",
    "     - filepath: string of filepath to csv file.\n",
    "\n",
    "     - index: string of column to index dataframe by.\n",
    "    \"\"\"\n",
    "    df = pd.read_csv(filepath, header=0, index_col=[index])\n",
    "    return df"
   ]
  },
  {
   "cell_type": "code",
   "execution_count": 41,
   "metadata": {},
   "outputs": [],
   "source": [
    "# Dataframe Details\n",
    "df = pd.read_csv(\"https://media.geeksforgeeks.org/wp-content/uploads/nba.csv\")\n",
    "def details(df:DataFrame):\n",
    "    \"\"\"\n",
    "    Prints Stats of a dataframe, Returning columns, the shape and datatypes of the columns\n",
    "    \"\"\"\n",
    "    print(f\"\"\"\n",
    "    Columns: {list(df.columns)}\n",
    "    Shape: {df.shape[0]} Rows, {df.shape[1]} Columns\n",
    "    Data Types: {list(df.dtypes)}\n",
    "    \"\"\")\n",
    "\n"
   ]
  },
  {
   "cell_type": "code",
   "execution_count": null,
   "metadata": {},
   "outputs": [],
   "source": [
    "def index_setter(df:DataFrame, index) -> None:\n",
    "    \"\"\"\n",
    "    Sets the index of dataframe to a desired existing column\n",
    "        - df: dataframe to have index changed\n",
    "        - index: name of column that index will be set to\n",
    "    \"\"\"\n",
    "    df.set_index(index, inplace=True)"
   ]
  },
  {
   "cell_type": "code",
   "execution_count": null,
   "metadata": {},
   "outputs": [],
   "source": [
    "\n",
    "\n",
    "def remove_new_line_char(df:DataFrame) -> DataFrame:\n",
    "    \"\"\"\n",
    "    Removes new lines from dataframe.\n",
    "    \"\"\"\n",
    "    return df.replace('\\n','', regex=True)"
   ]
  },
  {
   "cell_type": "code",
   "execution_count": null,
   "metadata": {},
   "outputs": [],
   "source": [
    "def nullfill(df:DataFrame, fill_val) -> None:\n",
    "    \"\"\"\n",
    "    Targets empty fields of a dataframe and sets them to the fill_val\n",
    "    \"\"\"    \n",
    "    df.fillna(value=fill_val, axis=1, inplace=True)"
   ]
  },
  {
   "cell_type": "code",
   "execution_count": null,
   "metadata": {},
   "outputs": [],
   "source": [
    "def duplicate_drop(df:DataFrame, col_list=None) -> None:\n",
    "    \"\"\"\n",
    "    drop duplicate rows targeting a specific column(s)\n",
    "    col_list: ['column1', 'column2']\n",
    "    - Enter column name as a string\n",
    "    - Only 1 column required, if none set uses all columns\n",
    "    - Enter multiple columns as strings seperated by commas in a list\n",
    "    - eg: duplicate drop(dataframe, ['col1', 'col2'])\n",
    "    \"\"\"\n",
    "    df.drop_duplicates(subset=col_list, inplace=True)"
   ]
  },
  {
   "cell_type": "code",
   "execution_count": null,
   "metadata": {},
   "outputs": [],
   "source": [
    "def drop_missing_row(df:DataFrame, col_list=None) -> None:\n",
    "    \"\"\"\n",
    "    Drops dataframe row if it is missing any data in col_list\n",
    "    col_list: ['column1', 'column2']\n",
    "    - Enter column name as a string or list\n",
    "    - Only 1 column required, if none set uses all columns\n",
    "    - Enter multiple columns as strings seperated by commas in a list\n",
    "    - eg: drop_missing_row(dataframe, ['col1', 'col2'])\n",
    "    \"\"\"\n",
    "    df.dropna(subset=col_list, inplace=True)"
   ]
  },
  {
   "cell_type": "code",
   "execution_count": null,
   "metadata": {},
   "outputs": [],
   "source": [
    "def drop_low_data(df:DataFrame, threshold=2) -> None:\n",
    "    \"\"\"\n",
    "    Drops dataframe row if missing more than x(threshold) values, Default is 2 \n",
    "    \"\"\"\n",
    "    df.dropna(thresh=threshold, inplace=True)"
   ]
  },
  {
   "cell_type": "code",
   "execution_count": 42,
   "metadata": {},
   "outputs": [],
   "source": [
    "def drop_extra_columns(df:DataFrame, num_cols):\n",
    "    \"\"\"\n",
    "    Drops dataframe columns if dataframe has more than <num_cols> columns\n",
    "    \"\"\"\n",
    "    df.drop(df.columns[num_cols:])"
   ]
  },
  {
   "cell_type": "code",
   "execution_count": 46,
   "metadata": {},
   "outputs": [],
   "source": [
    "\n",
    "def write_csv(df:DataFrame, filepath, filename):\n",
    "    \"\"\"\n",
    "    Writes a dataframe into a new csv file located in filepath\n",
    "    \"\"\"\n",
    "    os.makedirs(filepath, exist_ok=True)  \n",
    "    df.to_csv(f'{filepath}{filename}')"
   ]
  },
  {
   "cell_type": "code",
   "execution_count": null,
   "metadata": {
    "vscode": {
     "languageId": "shellscript"
    }
   },
   "outputs": [],
   "source": [
    "export DISPLAY=`grep -oP \"(?<=nameserver ).+\" /etc/resolv.conf`:0.0"
   ]
  },
  {
   "cell_type": "code",
   "execution_count": 1,
   "metadata": {},
   "outputs": [
    {
     "name": "stdout",
     "output_type": "stream",
     "text": [
      "You entered  2\n"
     ]
    }
   ],
   "source": [
    "import PySimpleGUI as sg\n",
    "\n",
    "# --------- SAMPLE GUI ----------- Not my code. PySimpleGUI\n",
    "\n",
    "sg.theme('DarkAmber')   # Add a touch of color\n",
    "# All the stuff inside your window.\n",
    "layout = [  [sg.Text('Some text on Row 1')],\n",
    "            [sg.Text('Enter something on Row 2'), sg.InputText()],\n",
    "            [sg.Button('Ok'), sg.Button('Cancel')] ]\n",
    "\n",
    "# Create the Window\n",
    "window = sg.Window('Window Title', layout)\n",
    "# Event Loop to process \"events\" and get the \"values\" of the inputs\n",
    "while True:\n",
    "    event, values = window.read()\n",
    "    if event == sg.WIN_CLOSED or event == 'Cancel': # if user closes window or clicks cancel\n",
    "        break\n",
    "    print('You entered ', values[0])\n",
    "\n",
    "window.close()"
   ]
  },
  {
   "cell_type": "code",
   "execution_count": 10,
   "metadata": {},
   "outputs": [],
   "source": [
    "import tkinter as tk\n",
    "\n",
    "window = tk.Tk()\n",
    "label = tk.Label(text=\"Test Tkinter!\", fg=\"white\", bg=\"black\", height=10, width=10)\n",
    "label.pack()\n",
    "button = tk.Button(\n",
    "    text=\"Click me!\",\n",
    "    width=25,\n",
    "    height=5,\n",
    "    bg=\"blue\",\n",
    "    fg=\"yellow\",\n",
    ")\n",
    "button.pack()\n",
    "entry = tk.Entry(fg=\"yellow\", bg=\"blue\", width=50)\n",
    "entry.pack()\n",
    "\n",
    "window.mainloop()\n"
   ]
  },
  {
   "cell_type": "code",
   "execution_count": null,
   "metadata": {},
   "outputs": [],
   "source": [
    "import tkinter as tk\n",
    "\n",
    "\n",
    "border_effects = {\n",
    "\n",
    "    \"flat\": tk.FLAT,\n",
    "\n",
    "    \"sunken\": tk.SUNKEN,\n",
    "\n",
    "    \"raised\": tk.RAISED,\n",
    "\n",
    "    \"groove\": tk.GROOVE,\n",
    "\n",
    "    \"ridge\": tk.RIDGE,\n",
    "\n",
    "}\n",
    "\n",
    "\n",
    "window = tk.Tk()\n",
    "\n",
    "\n",
    "for relief_name, relief in border_effects.items():\n",
    "\n",
    "    frame = tk.Frame(master=window, relief=relief, borderwidth=5)\n",
    "\n",
    "    frame.pack(side=tk.LEFT)\n",
    "\n",
    "    label = tk.Label(master=frame, text=relief_name)\n",
    "\n",
    "    label.pack()\n",
    "\n",
    "\n",
    "window.mainloop()"
   ]
  }
 ],
 "metadata": {
  "kernelspec": {
   "display_name": "Python 3.7.13 ('venv': venv)",
   "language": "python",
   "name": "python3"
  },
  "language_info": {
   "codemirror_mode": {
    "name": "ipython",
    "version": 3
   },
   "file_extension": ".py",
   "mimetype": "text/x-python",
   "name": "python",
   "nbconvert_exporter": "python",
   "pygments_lexer": "ipython3",
   "version": "3.7.13"
  },
  "orig_nbformat": 4,
  "vscode": {
   "interpreter": {
    "hash": "eae3ff3229a1b98607459d5c4f9a548548e06220ac25a9cd12473f0b3fa680dd"
   }
  }
 },
 "nbformat": 4,
 "nbformat_minor": 2
}
